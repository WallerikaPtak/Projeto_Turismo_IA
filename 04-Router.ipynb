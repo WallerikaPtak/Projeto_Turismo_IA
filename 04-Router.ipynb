{
 "cells": [
  {
   "cell_type": "code",
   "execution_count": null,
   "id": "fd96ce9a",
   "metadata": {},
   "outputs": [],
   "source": [
    "# CÉLULA PARA O ARQUIVO: 04-Router.ipynb\n",
    "# Responsabilidade: Demonstrar a cadeia de classificação (roteador) funcionando.\n",
    "\n",
    "import os\n",
    "from dotenv import load_dotenv\n",
    "from langchain_core.prompts import PromptTemplate\n",
    "from langchain_core.output_parsers import StrOutputParser\n",
    "from langchain_groq import ChatGroq\n",
    "\n",
    "load_dotenv()\n",
    "\n",
    "llm = ChatGroq(temperature=0, model_name=\"gemma2-9b-it\")\n",
    "\n",
    "router_template = \"\"\"Dada uma pergunta, classifique-a em uma das seguintes categorias:\n",
    "'roteiro-viagem', 'info-local', 'logistica-transporte', 'traducao-idiomas'.\n",
    "Retorne apenas o nome da categoria.\n",
    "\n",
    "Pergunta: {input}\n",
    "Categoria:\"\"\"\n",
    "prompt_router = PromptTemplate.from_template(router_template)\n",
    "chain_classificadora = prompt_router | llm | StrOutputParser()\n",
    "\n",
    "# Testes\n",
    "print(\"--- Testes do Roteador ---\")\n",
    "pergunta1 = \"Qual o horário do Louvre?\"\n",
    "print(f\"Pergunta: '{pergunta1}' -> Tópico: {chain_classificadora.invoke({'input': pergunta1})}\")\n",
    "\n",
    "pergunta2 = \"me faça um roteiro de 5 dias em roma\"\n",
    "print(f\"Pergunta: '{pergunta2}' -> Tópico: {chain_classificadora.invoke({'input': pergunta2})}\")"
   ]
  }
 ],
 "metadata": {
  "kernelspec": {
   "display_name": "turismo_ia",
   "language": "python",
   "name": "python3"
  },
  "language_info": {
   "name": "python",
   "version": "3.11.13"
  }
 },
 "nbformat": 4,
 "nbformat_minor": 5
}
