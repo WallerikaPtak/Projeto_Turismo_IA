{
 "cells": [
  {
   "cell_type": "code",
   "execution_count": null,
   "id": "2c4b2a08",
   "metadata": {},
   "outputs": [
    {
     "name": "stderr",
     "output_type": "stream",
     "text": [
      "c:\\ananconda3\\envs\\turismo_ia\\Lib\\site-packages\\langchain_pinecone\\__init__.py:3: LangChainDeprecationWarning: As of langchain-core 0.3.0, LangChain uses pydantic v2 internally. The langchain_core.pydantic_v1 module was a compatibility shim for pydantic v1, and should no longer be used. Please update the code to import from Pydantic directly.\n",
      "\n",
      "For example, replace imports like: `from langchain_core.pydantic_v1 import BaseModel`\n",
      "with: `from pydantic import BaseModel`\n",
      "or the v1 compatibility namespace if you are working in a code base that has not been fully upgraded to pydantic 2 yet. \tfrom pydantic.v1 import BaseModel\n",
      "\n",
      "  from langchain_pinecone.vectorstores import Pinecone, PineconeVectorStore\n"
     ]
    },
    {
     "name": "stdout",
     "output_type": "stream",
     "text": [
      "Verificando o índice 'turismo' no Pinecone...\n",
      "✅ Índice 'turismo' já existe e está pronto para ser usado.\n"
     ]
    }
   ],
   "source": [
    "\n",
    "import os\n",
    "import time\n",
    "from dotenv import load_dotenv\n",
    "from langchain_community.document_loaders import TextLoader\n",
    "from langchain_text_splitters import CharacterTextSplitter\n",
    "from langchain_huggingface import HuggingFaceEmbeddings\n",
    "from langchain_pinecone import PineconeVectorStore\n",
    "from pinecone import Pinecone, ServerlessSpec\n",
    "\n",
    "# Carregar variáveis de ambiente do arquivo .env\n",
    "load_dotenv()\n",
    "\n",
    "PINECONE_API_KEY = os.environ.get(\"PINECONE_API_KEY\")\n",
    "PINECONE_INDEX_NAME = os.environ.get(\"PINECONE_INDEX_NAME\")\n",
    "\n",
    "print(f\"Verificando o índice '{PINECONE_INDEX_NAME}' no Pinecone...\")\n",
    "pc = Pinecone(api_key=PINECONE_API_KEY)\n",
    "\n",
    "# Verifica se o índice já existe\n",
    "if PINECONE_INDEX_NAME not in pc.list_indexes().names():\n",
    "    print(f\"Índice '{PINECONE_INDEX_NAME}' não encontrado. Criando um novo...\")\n",
    "\n",
    "    pc.create_index(\n",
    "        name=PINECONE_INDEX_NAME,\n",
    "        dimension=384,\n",
    "        metric='cosine',\n",
    "        spec=ServerlessSpec(cloud='aws', region='us-east-1')\n",
    "    )\n",
    "\n",
    "    print(\"Aguardando o índice ficar pronto...\")\n",
    "    time.sleep(10)\n",
    "\n",
    "    print(\"Carregando documentos do arquivo 'info_turismo.txt'...\")\n",
    "    \n",
    "    loader = TextLoader(\"data/info_turismo.txt\", encoding=\"utf-8\")\n",
    "    documents = loader.load()\n",
    "\n",
    "    print(\"Dividindo o texto em chunks...\")\n",
    "    text_splitter = CharacterTextSplitter(chunk_size=1000, chunk_overlap=100)\n",
    "    docs = text_splitter.split_documents(documents)\n",
    "\n",
    "    print(f\"Inicializando modelo de embeddings (384 dimensões)...\")\n",
    "    embeddings = HuggingFaceEmbeddings(model_name=\"sentence-transformers/all-MiniLM-L6-v2\")\n",
    "\n",
    "    print(f\"Adicionando {len(docs)} documentos ao índice '{PINECONE_INDEX_NAME}'...\")\n",
    "    PineconeVectorStore.from_documents(docs, embeddings, index_name=PINECONE_INDEX_NAME)\n",
    "\n",
    "    print(\"\\n✅ Índice criado e populado com sucesso!\")\n",
    "\n",
    "else:\n",
    "    print(f\"✅ Índice '{PINECONE_INDEX_NAME}' já existe e está pronto para ser usado.\")"
   ]
  }
 ],
 "metadata": {
  "kernelspec": {
   "display_name": "turismo_ia",
   "language": "python",
   "name": "python3"
  },
  "language_info": {
   "codemirror_mode": {
    "name": "ipython",
    "version": 3
   },
   "file_extension": ".py",
   "mimetype": "text/x-python",
   "name": "python",
   "nbconvert_exporter": "python",
   "pygments_lexer": "ipython3",
   "version": "3.11.13"
  }
 },
 "nbformat": 4,
 "nbformat_minor": 5
}
