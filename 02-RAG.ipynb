{
 "cells": [
  {
   "cell_type": "code",
   "execution_count": null,
   "id": "976f8610",
   "metadata": {},
   "outputs": [
    {
     "name": "stderr",
     "output_type": "stream",
     "text": [
      "c:\\ananconda3\\envs\\turismo_ia\\Lib\\site-packages\\langchain_pinecone\\__init__.py:3: LangChainDeprecationWarning: As of langchain-core 0.3.0, LangChain uses pydantic v2 internally. The langchain_core.pydantic_v1 module was a compatibility shim for pydantic v1, and should no longer be used. Please update the code to import from Pydantic directly.\n",
      "\n",
      "For example, replace imports like: `from langchain_core.pydantic_v1 import BaseModel`\n",
      "with: `from pydantic import BaseModel`\n",
      "or the v1 compatibility namespace if you are working in a code base that has not been fully upgraded to pydantic 2 yet. \tfrom pydantic.v1 import BaseModel\n",
      "\n",
      "  from langchain_pinecone.vectorstores import Pinecone, PineconeVectorStore\n"
     ]
    },
    {
     "name": "stdout",
     "output_type": "stream",
     "text": [
      "O horário de funcionamento do Cristo Redentor é de 8:00 - 19:00.  \n",
      "\n"
     ]
    }
   ],
   "source": [
    "# CÉLULA CORRIGIDA PARA O ARQUIVO: 02-RAG.ipynb\n",
    "# Responsabilidade: Demonstrar a cadeia de RAG funcionando isoladamente.\n",
    "\n",
    "import os\n",
    "from dotenv import load_dotenv\n",
    "from langchain_groq import ChatGroq\n",
    "from langchain.chains import RetrievalQA\n",
    "from langchain_huggingface import HuggingFaceEmbeddings\n",
    "from langchain_pinecone import PineconeVectorStore\n",
    "\n",
    "load_dotenv()\n",
    "\n",
    "\n",
    "llm = ChatGroq(\n",
    "    temperature=0,\n",
    "    model_name=\"gemma2-9b-it\",\n",
    "    max_tokens=512  \n",
    ")\n",
    "\n",
    "embeddings = HuggingFaceEmbeddings(model_name=\"sentence-transformers/all-MiniLM-L6-v2\")\n",
    "PINECONE_INDEX_NAME = os.environ.get(\"PINECONE_INDEX_NAME\")\n",
    "\n",
    "vectorstore = PineconeVectorStore(index_name=PINECONE_INDEX_NAME, embedding=embeddings)\n",
    "\n",
    "\n",
    "retriever_configurado = vectorstore.as_retriever(search_kwargs={'k': 2}) \n",
    "\n",
    "chain_info_local = RetrievalQA.from_chain_type(\n",
    "    llm=llm,\n",
    "    chain_type=\"stuff\",\n",
    "    retriever=retriever_configurado # Usando o retriever configurado\n",
    ")\n",
    "\n",
    "# Teste\n",
    "pergunta = \"Qual o horário de funcionamento do Cristo Redentor?\"\n",
    "resposta = chain_info_local.invoke({\"query\": pergunta})\n",
    "print(resposta['result'])"
   ]
  }
 ],
 "metadata": {
  "kernelspec": {
   "display_name": "turismo_ia",
   "language": "python",
   "name": "python3"
  },
  "language_info": {
   "codemirror_mode": {
    "name": "ipython",
    "version": 3
   },
   "file_extension": ".py",
   "mimetype": "text/x-python",
   "name": "python",
   "nbconvert_exporter": "python",
   "pygments_lexer": "ipython3",
   "version": "3.11.13"
  }
 },
 "nbformat": 4,
 "nbformat_minor": 5
}
